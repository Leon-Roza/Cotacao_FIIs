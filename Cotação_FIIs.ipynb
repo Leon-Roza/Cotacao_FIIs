{
 "cells": [
  {
   "cell_type": "code",
   "execution_count": 34,
   "metadata": {},
   "outputs": [],
   "source": [
    "#importando bibliotecas\n",
    "import pandas as pd\n",
    "import requests\n"
   ]
  },
  {
   "cell_type": "code",
   "execution_count": 35,
   "metadata": {},
   "outputs": [],
   "source": [
    "#Definindo variáveis\n",
    "header = {'User-Agent':'Mozilla/5.0(Windows NT 10.0; Win64) AppleWebKit/537.36 \\(KHTML, like Gecko)Chrome/97.04692.99 Safari/537.36'}\n",
    "url = 'https://www.fundsexplorer.com.br/ranking'\n",
    "request = requests.get(url, headers=header)\n",
    "\n",
    "df = pd.read_html(request.text)"
   ]
  },
  {
   "cell_type": "code",
   "execution_count": 36,
   "metadata": {},
   "outputs": [
    {
     "name": "stdout",
     "output_type": "stream",
     "text": [
      "---------------------------\n",
      "0\n",
      "    Códigodo fundo                Setor Preço Atual  Liquidez Diária  \\\n",
      "0           FIVN11            Shoppings     R$ 3,22          17482.0   \n",
      "1           BZLI11  Títulos e Val. Mob.    R$ 17,00              5.0   \n",
      "2           XTED11   Lajes Corporativas     R$ 8,82           2223.0   \n",
      "3           ALMI11   Lajes Corporativas   R$ 921,00             15.0   \n",
      "4           PABY11              Híbrido    R$ 16,95           1143.0   \n",
      "..             ...                  ...         ...              ...   \n",
      "375         CCRF11  Títulos e Val. Mob.    R$ 85,00            142.0   \n",
      "376         CNES11   Lajes Corporativas    R$ 32,00             10.0   \n",
      "377         MCHY11  Títulos e Val. Mob.   R$ 107,00             79.0   \n",
      "378         EDGA11   Lajes Corporativas    R$ 18,70           2666.0   \n",
      "379         BTRA11               Outros    R$ 83,92           6504.0   \n",
      "\n",
      "    Dividendo DividendYield DY (3M)Acumulado DY (6M)Acumulado  \\\n",
      "0     R$ 0,00         0,00%            0,00%            0,00%   \n",
      "1     R$ 0,00         0,00%            0,00%            0,00%   \n",
      "2     R$ 0,00         0,00%            0,00%            0,00%   \n",
      "3     R$ 0,00         0,00%            0,00%            0,00%   \n",
      "4     R$ 0,00         0,00%            0,00%            0,00%   \n",
      "..        ...           ...              ...              ...   \n",
      "375   R$ 0,55         0,58%            2,03%            6,04%   \n",
      "376   R$ 0,11         0,35%            1,07%            1,98%   \n",
      "377   R$ 3,40         3,24%            5,87%            9,77%   \n",
      "378   R$ 0,15         0,82%            2,25%            3,88%   \n",
      "379   R$ 0,85         1,00%            2,94%            5,36%   \n",
      "\n",
      "    DY (12M)Acumulado DY (3M)Média  ...     PatrimônioLíq.          VPA  \\\n",
      "0               0,00%        0,00%  ...   R$ 65.352.435,22      R$ 6,94   \n",
      "1               0,00%        0,00%  ...  R$ 433.127.158,26     R$ 10,49   \n",
      "2               0,00%        0,00%  ...   R$ 27.688.895,17     R$ 13,26   \n",
      "3               0,00%        0,00%  ...  R$ 250.446.109,75  R$ 2.252,68   \n",
      "4               0,00%        0,00%  ...  R$ -12.026.292,32    R$ -15,86   \n",
      "..                ...          ...  ...                ...          ...   \n",
      "375            12,96%        0,68%  ...  R$ 151.624.862,95     R$ 96,46   \n",
      "376             3,72%        0,36%  ...  R$ 263.957.120,08     R$ 89,50   \n",
      "377            16,95%        1,96%  ...  R$ 357.847.552,23     R$ 99,69   \n",
      "378             8,02%        0,75%  ...  R$ 252.142.355,54     R$ 66,14   \n",
      "379            10,83%        0,98%  ...  R$ 348.636.630,43    R$ 103,62   \n",
      "\n",
      "     P/VPA DYPatrimonial VariaçãoPatrimonial Rentab. Patr.no Período  \\\n",
      "0     46.0           NaN                 NaN                     NaN   \n",
      "1    162.0           NaN                 NaN                     NaN   \n",
      "2     67.0           NaN                 NaN                     NaN   \n",
      "3     41.0           NaN                 NaN                     NaN   \n",
      "4   -107.0           NaN                 NaN                     NaN   \n",
      "..     ...           ...                 ...                     ...   \n",
      "375   88.0         0,57%              -1,87%                  -1,31%   \n",
      "376   36.0         0,12%               2,57%                   2,70%   \n",
      "377  107.0         3,41%              -3,72%                  -0,43%   \n",
      "378   28.0         0,23%              -0,02%                   0,21%   \n",
      "379   81.0         0,82%               0,53%                   1,36%   \n",
      "\n",
      "    Rentab. Patr.Acumulada VacânciaFísica  VacânciaFinanceira QuantidadeAtivos  \n",
      "0                      NaN         56,00%                 NaN                1  \n",
      "1                      NaN            NaN                 NaN                0  \n",
      "2                      NaN          0,00%             100,00%                1  \n",
      "3                      NaN         64,05%                 NaN                1  \n",
      "4                      NaN            NaN                 NaN                1  \n",
      "..                     ...            ...                 ...              ...  \n",
      "375                  2,72%            NaN                 NaN                0  \n",
      "376                  4,26%         56,70%                 NaN                1  \n",
      "377                  9,03%            NaN                 NaN                0  \n",
      "378                  0,95%         48,81%                 NaN                1  \n",
      "379                  5,71%            NaN                 NaN                0  \n",
      "\n",
      "[380 rows x 26 columns]\n"
     ]
    }
   ],
   "source": [
    "#enumerando DataFrames\n",
    "for i, tabela in enumerate(df):\n",
    "    print('---------------------------')\n",
    "print(i)\n",
    "print(tabela)"
   ]
  },
  {
   "cell_type": "code",
   "execution_count": 37,
   "metadata": {},
   "outputs": [],
   "source": [
    "#Atribuindo tabela principal ao DataFrame \"0\"\n",
    "df = pd.DataFrame(df[0])"
   ]
  },
  {
   "cell_type": "code",
   "execution_count": 39,
   "metadata": {},
   "outputs": [],
   "source": [
    "df['Preço Atual'] = df['Preço Atual'].apply(lambda x: str(x).replace(\"R$\",\"\"))\n",
    "df['DY (12M)Média'] = df['DY (12M)Média'].apply(lambda x: str(x).replace(\"%\",\"\"))\n"
   ]
  },
  {
   "cell_type": "code",
   "execution_count": 40,
   "metadata": {},
   "outputs": [],
   "source": [
    "import gspread\n",
    "\n",
    "CODE = '1mO-7fwEb6euJCBalaZRgtHsFt4NXFHuP4qkFD0UPtVk'\n",
    "gc = gspread.service_account(filename = 'key.json')\n",
    "sh = gc.open_by_key(CODE)\n",
    "ws = sh.worksheet('Cotacao_fiis')"
   ]
  },
  {
   "cell_type": "code",
   "execution_count": 41,
   "metadata": {},
   "outputs": [
    {
     "data": {
      "text/plain": [
       "{'spreadsheetId': '1mO-7fwEb6euJCBalaZRgtHsFt4NXFHuP4qkFD0UPtVk',\n",
       " 'updatedRange': 'Cotacao_fiis!A1:Z381',\n",
       " 'updatedRows': 381,\n",
       " 'updatedColumns': 26,\n",
       " 'updatedCells': 9906}"
      ]
     },
     "execution_count": 41,
     "metadata": {},
     "output_type": "execute_result"
    }
   ],
   "source": [
    "df = df.fillna('')\n",
    "ws.update('A1:Z381',[df.columns.values.tolist()]+ df.values.tolist())"
   ]
  }
 ],
 "metadata": {
  "kernelspec": {
   "display_name": "base",
   "language": "python",
   "name": "python3"
  },
  "language_info": {
   "codemirror_mode": {
    "name": "ipython",
    "version": 3
   },
   "file_extension": ".py",
   "mimetype": "text/x-python",
   "name": "python",
   "nbconvert_exporter": "python",
   "pygments_lexer": "ipython3",
   "version": "3.9.12"
  },
  "orig_nbformat": 4,
  "vscode": {
   "interpreter": {
    "hash": "0bcc74a3859c92d3d479f83aaab38682f7a8337fbc1b385a67378df8938a88ee"
   }
  }
 },
 "nbformat": 4,
 "nbformat_minor": 2
}
