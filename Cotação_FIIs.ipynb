{
 "cells": [
  {
   "cell_type": "markdown",
   "metadata": {},
   "source": [
    "#importando bibliotecas\n",
    "import pandas as pd\n",
    "import requests\n"
   ]
  },
  {
   "cell_type": "code",
   "execution_count": 3,
   "metadata": {},
   "outputs": [],
   "source": [
    "#Definindo variáveis\n",
    "header = {'User-Agent':'Mozilla/5.0(Windows NT 10.0; Win64) AppleWebKit/537.36 \\(KHTML, like Gecko)Chrome/97.04692.99 Safari/537.36'}\n",
    "url = 'https://www.fundsexplorer.com.br/ranking'\n",
    "request = requests.get(url, headers=header)\n",
    "\n",
    "df = pd.read_html(request.text)"
   ]
  },
  {
   "cell_type": "code",
   "execution_count": 4,
   "metadata": {},
   "outputs": [
    {
     "name": "stdout",
     "output_type": "stream",
     "text": [
      "---------------------------\n",
      "0\n",
      "    Códigodo fundo                Setor Preço Atual  Liquidez Diária  \\\n",
      "0           FIVN11            Shoppings     R$ 3,16           5205.0   \n",
      "1           BZLI11  Títulos e Val. Mob.    R$ 17,00              5.0   \n",
      "2           XTED11   Lajes Corporativas     R$ 8,82           2223.0   \n",
      "3           ALMI11   Lajes Corporativas   R$ 921,00              4.0   \n",
      "4           PABY11              Híbrido    R$ 18,00            591.0   \n",
      "..             ...                  ...         ...              ...   \n",
      "375        CXCE11B               Outros    R$ 41,70            868.0   \n",
      "376         HOSI11              Híbrido    R$ 58,04             10.0   \n",
      "377         HGFF11  Títulos e Val. Mob.    R$ 71,82          13376.0   \n",
      "378         RFOF11  Títulos e Val. Mob.    R$ 70,00            848.0   \n",
      "379         RMAI11   Lajes Corporativas    R$ 59,99           6036.0   \n",
      "\n",
      "    Dividendo DividendYield DY (3M)Acumulado DY (6M)Acumulado  \\\n",
      "0     R$ 0,00         0,00%            0,00%            0,00%   \n",
      "1     R$ 0,00         0,00%            0,00%            0,00%   \n",
      "2     R$ 0,00         0,00%            0,00%            0,00%   \n",
      "3     R$ 0,00         0,00%            0,00%            0,00%   \n",
      "4     R$ 0,00         0,00%            0,00%            0,00%   \n",
      "..        ...           ...              ...              ...   \n",
      "375   R$ 0,40         0,97%            3,12%            5,87%   \n",
      "376   R$ 1,72         2,97%            4,33%            6,51%   \n",
      "377   R$ 0,65         0,91%            2,57%            5,08%   \n",
      "378   R$ 0,71         1,01%            2,95%            5,77%   \n",
      "379   R$ 0,26         0,43%            1,57%            3,49%   \n",
      "\n",
      "    DY (12M)Acumulado DY (3M)Média  ...     PatrimônioLíq.          VPA  \\\n",
      "0               0,00%        0,00%  ...   R$ 65.352.435,22      R$ 6,94   \n",
      "1               0,00%        0,00%  ...  R$ 433.127.158,26     R$ 10,49   \n",
      "2               0,00%        0,00%  ...   R$ 27.688.895,17     R$ 13,26   \n",
      "3               0,00%        0,00%  ...  R$ 250.446.109,75  R$ 2.252,68   \n",
      "4               0,00%        0,00%  ...  R$ -12.026.292,32    R$ -15,86   \n",
      "..                ...          ...  ...                ...          ...   \n",
      "375            11,15%        1,04%  ...  R$ 110.989.765,24     R$ 64,79   \n",
      "376             9,34%        1,44%  ...   R$ 53.442.769,27     R$ 93,20   \n",
      "377            10,06%        0,86%  ...  R$ 250.418.653,25     R$ 87,45   \n",
      "378            11,35%        0,98%  ...   R$ 86.846.738,67     R$ 80,55   \n",
      "379             8,27%        0,52%  ...  R$ 264.027.689,75    R$ 108,04   \n",
      "\n",
      "     P/VPA DYPatrimonial VariaçãoPatrimonial Rentab. Patr.no Período  \\\n",
      "0     46.0           NaN                 NaN                     NaN   \n",
      "1    162.0           NaN                 NaN                     NaN   \n",
      "2     67.0           NaN                 NaN                     NaN   \n",
      "3     41.0           NaN                 NaN                     NaN   \n",
      "4   -114.0           NaN                 NaN                     NaN   \n",
      "..     ...           ...                 ...                     ...   \n",
      "375   64.0         0,70%              -0,04%                   0,66%   \n",
      "376   62.0         0,46%               0,26%                   0,72%   \n",
      "377   82.0         0,74%              -5,38%                  -4,67%   \n",
      "378   87.0         0,91%              -6,07%                  -5,22%   \n",
      "379   56.0         0,24%              -0,05%                   0,19%   \n",
      "\n",
      "    Rentab. Patr.Acumulada VacânciaFísica  VacânciaFinanceira QuantidadeAtivos  \n",
      "0                      NaN         56,00%                 NaN                1  \n",
      "1                      NaN            NaN                 NaN                0  \n",
      "2                      NaN          0,00%             100,00%                1  \n",
      "3                      NaN         64,05%                 NaN                1  \n",
      "4                      NaN            NaN                 NaN                1  \n",
      "..                     ...            ...                 ...              ...  \n",
      "375                 -0,68%          0,00%                 NaN                1  \n",
      "376                  5,35%            NaN                 NaN                2  \n",
      "377                  5,29%            NaN                 NaN                0  \n",
      "378                  1,08%            NaN                 NaN                0  \n",
      "379                  2,15%         23,44%                 NaN                1  \n",
      "\n",
      "[380 rows x 26 columns]\n"
     ]
    }
   ],
   "source": [
    "#enumerando DataFrames\n",
    "for i, tabela in enumerate(df):\n",
    "    print('---------------------------')\n",
    "print(i)\n",
    "print(tabela)"
   ]
  },
  {
   "cell_type": "code",
   "execution_count": 5,
   "metadata": {},
   "outputs": [],
   "source": [
    "#Atribuindo tabela principal ao DataFrame \"0\"\n",
    "df = pd.DataFrame(df[0])"
   ]
  },
  {
   "cell_type": "code",
   "execution_count": 28,
   "metadata": {},
   "outputs": [],
   "source": [
    "df['Preço Atual'] = df['Preço Atual'].apply(lambda x: str(x).replace(\"R$\",\"\"))\n",
    "df['Dividendo'] = df['Dividendo'].apply(lambda x: str(x).replace(\"R$\",\"\"))\n",
    "df['PatrimônioLíq.'] = df['PatrimônioLíq.'].apply(lambda x: str(x).replace(\"R$\",\"\"))\n",
    "df['VPA'] = df['VPA'].apply(lambda x: str(x).replace(\"R$\",\"\"))\n",
    "df['DY (12M)Média'] = df['DY (12M)Média'].apply(lambda x: str(x).replace(\"%\",\"\"))\n",
    "col1 = 'DividendYield'\t\n",
    "col2 = 'DY (3M)Acumulado'\t\n",
    "col3 ='DY (6M)Acumulado'\t\n",
    "col4 ='DY (12M)Acumulado'\t\n",
    "col5 = 'DY (3M)Média'\t\n",
    "col6 = 'DY (6M)Média'\t\n",
    "col7 = 'DY (12M)Média'\t\n",
    "col8 = 'DY Ano'\n",
    "col9 = 'Variação Preço'\t\n",
    "col10 = 'Rentab.Período'\t\n",
    "col11 = 'Rentab.Acumulada'\n",
    "df[col2] = df[col2].apply(lambda x: str(x).replace(\"%\",\"\"))\n",
    "df[col3] = df[col3].apply(lambda x: str(x).replace(\"%\",\"\"))\n",
    "df[col4] = df[col4].apply(lambda x: str(x).replace(\"%\",\"\"))\n",
    "df[col5] = df[col5].apply(lambda x: str(x).replace(\"%\",\"\"))\n",
    "df[col6] = df[col6].apply(lambda x: str(x).replace(\"%\",\"\"))\n",
    "df[col7] = df[col7].apply(lambda x: str(x).replace(\"%\",\"\"))\n",
    "df[col8] = df[col8].apply(lambda x: str(x).replace(\"%\",\"\"))\n",
    "df[col9] = df[col9].apply(lambda x: str(x).replace(\"%\",\"\"))\n",
    "df[col10] = df[col10].apply(lambda x: str(x).replace(\"%\",\"\"))\n",
    "df[col11] = df[col11].apply(lambda x: str(x).replace(\"%\",\"\"))"
   ]
  },
  {
   "cell_type": "code",
   "execution_count": 26,
   "metadata": {},
   "outputs": [],
   "source": [
    "import gspread\n",
    "\n",
    "CODE = '1mO-7fwEb6euJCBalaZRgtHsFt4NXFHuP4qkFD0UPtVk'\n",
    "gc = gspread.service_account(filename = 'key.json')\n",
    "sh = gc.open_by_key(CODE)\n",
    "ws = sh.worksheet('Cotacao_fiis')"
   ]
  },
  {
   "cell_type": "code",
   "execution_count": 27,
   "metadata": {},
   "outputs": [
    {
     "data": {
      "text/plain": [
       "{'spreadsheetId': '1mO-7fwEb6euJCBalaZRgtHsFt4NXFHuP4qkFD0UPtVk',\n",
       " 'updatedRange': 'Cotacao_fiis!A1:Z381',\n",
       " 'updatedRows': 381,\n",
       " 'updatedColumns': 26,\n",
       " 'updatedCells': 9906}"
      ]
     },
     "execution_count": 27,
     "metadata": {},
     "output_type": "execute_result"
    }
   ],
   "source": [
    "df = df.fillna('')\n",
    "ws.update('A1:Z381',[df.columns.values.tolist()]+ df.values.tolist())"
   ]
  }
 ],
 "metadata": {
  "kernelspec": {
   "display_name": "base",
   "language": "python",
   "name": "python3"
  },
  "language_info": {
   "codemirror_mode": {
    "name": "ipython",
    "version": 3
   },
   "file_extension": ".py",
   "mimetype": "text/x-python",
   "name": "python",
   "nbconvert_exporter": "python",
   "pygments_lexer": "ipython3",
   "version": "3.9.12"
  },
  "orig_nbformat": 4,
  "vscode": {
   "interpreter": {
    "hash": "0bcc74a3859c92d3d479f83aaab38682f7a8337fbc1b385a67378df8938a88ee"
   }
  }
 },
 "nbformat": 4,
 "nbformat_minor": 2
}
